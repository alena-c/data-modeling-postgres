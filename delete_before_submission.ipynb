{
 "cells": [
  {
   "cell_type": "code",
   "execution_count": 2,
   "id": "4a8924d5",
   "metadata": {},
   "outputs": [],
   "source": [
    "import datetime"
   ]
  },
  {
   "cell_type": "code",
   "execution_count": 4,
   "id": "b2d66533",
   "metadata": {},
   "outputs": [],
   "source": [
    "def parse_first_brewed(text: str) -> datetime.date:\n",
    "    parts = text.split('/')\n",
    "    if len(parts) == 2:\n",
    "        return datetime.date(int(parts[1]), int(parts[0]), 1)\n",
    "    elif len(parts) == 1:\n",
    "        return datetime.date(int(parts[0]), 1, 1)\n",
    "    else:\n",
    "        assert False, 'Unknown date format'"
   ]
  },
  {
   "cell_type": "code",
   "execution_count": 5,
   "id": "086f16de",
   "metadata": {},
   "outputs": [
    {
     "data": {
      "text/plain": [
       "datetime.date(2007, 9, 1)"
      ]
     },
     "execution_count": 5,
     "metadata": {},
     "output_type": "execute_result"
    }
   ],
   "source": [
    "parse_first_brewed('09/2007')"
   ]
  },
  {
   "cell_type": "code",
   "execution_count": 6,
   "id": "f1e994fc",
   "metadata": {},
   "outputs": [
    {
     "data": {
      "text/plain": [
       "datetime.date(2007, 1, 1)"
      ]
     },
     "execution_count": 6,
     "metadata": {},
     "output_type": "execute_result"
    }
   ],
   "source": [
    "parse_first_brewed('2007')"
   ]
  },
  {
   "cell_type": "markdown",
   "id": "ebcbfecb",
   "metadata": {},
   "source": [
    "# Fetch the Data"
   ]
  },
  {
   "cell_type": "code",
   "execution_count": 11,
   "id": "06da7aa5",
   "metadata": {},
   "outputs": [],
   "source": [
    "# The API provides paged results. To encapsulate the paging, \n",
    "# we create a generator that yields beers one by one:\n",
    "from typing import Iterator, Dict, Any\n",
    "from urllib.parse import urlencode\n",
    "import requests\n",
    "\n",
    "def iter_beers_from_api(page_size: int = 5) -> Iterator[Dict[str, Any]]:\n",
    "    session = requests.Session()\n",
    "    page = 1\n",
    "    while True:\n",
    "        response = session.get('https://api.punkapi.com/v2/beers?' + urlencode({\n",
    "            'page': page,\n",
    "            'per_page': page_size\n",
    "        }))\n",
    "        response.raise_for_status()\n",
    "        \n",
    "        data = response.json()\n",
    "        if not data:\n",
    "            break\n",
    "            \n",
    "        yield from data\n",
    "        \n",
    "        page += 1"
   ]
  },
  {
   "cell_type": "code",
   "execution_count": 12,
   "id": "27f93999",
   "metadata": {},
   "outputs": [
    {
     "data": {
      "text/plain": [
       "{'id': 1,\n",
       " 'name': 'Buzz',\n",
       " 'tagline': 'A Real Bitter Experience.',\n",
       " 'first_brewed': '09/2007',\n",
       " 'description': 'A light, crisp and bitter IPA brewed with English and American hops. A small batch brewed only once.',\n",
       " 'image_url': 'https://images.punkapi.com/v2/keg.png',\n",
       " 'abv': 4.5,\n",
       " 'ibu': 60,\n",
       " 'target_fg': 1010,\n",
       " 'target_og': 1044,\n",
       " 'ebc': 20,\n",
       " 'srm': 10,\n",
       " 'ph': 4.4,\n",
       " 'attenuation_level': 75,\n",
       " 'volume': {'value': 20, 'unit': 'litres'},\n",
       " 'boil_volume': {'value': 25, 'unit': 'litres'},\n",
       " 'method': {'mash_temp': [{'temp': {'value': 64, 'unit': 'celsius'},\n",
       "    'duration': 75}],\n",
       "  'fermentation': {'temp': {'value': 19, 'unit': 'celsius'}},\n",
       "  'twist': None},\n",
       " 'ingredients': {'malt': [{'name': 'Maris Otter Extra Pale',\n",
       "    'amount': {'value': 3.3, 'unit': 'kilograms'}},\n",
       "   {'name': 'Caramalt', 'amount': {'value': 0.2, 'unit': 'kilograms'}},\n",
       "   {'name': 'Munich', 'amount': {'value': 0.4, 'unit': 'kilograms'}}],\n",
       "  'hops': [{'name': 'Fuggles',\n",
       "    'amount': {'value': 25, 'unit': 'grams'},\n",
       "    'add': 'start',\n",
       "    'attribute': 'bitter'},\n",
       "   {'name': 'First Gold',\n",
       "    'amount': {'value': 25, 'unit': 'grams'},\n",
       "    'add': 'start',\n",
       "    'attribute': 'bitter'},\n",
       "   {'name': 'Fuggles',\n",
       "    'amount': {'value': 37.5, 'unit': 'grams'},\n",
       "    'add': 'middle',\n",
       "    'attribute': 'flavour'},\n",
       "   {'name': 'First Gold',\n",
       "    'amount': {'value': 37.5, 'unit': 'grams'},\n",
       "    'add': 'middle',\n",
       "    'attribute': 'flavour'},\n",
       "   {'name': 'Cascade',\n",
       "    'amount': {'value': 37.5, 'unit': 'grams'},\n",
       "    'add': 'end',\n",
       "    'attribute': 'flavour'}],\n",
       "  'yeast': 'Wyeast 1056 - American Ale™'},\n",
       " 'food_pairing': ['Spicy chicken tikka masala',\n",
       "  'Grilled chicken quesadilla',\n",
       "  'Caramel toffee cake'],\n",
       " 'brewers_tips': 'The earthy and floral aromas from the hops can be overpowering. Drop a little Cascade in at the end of the boil to lift the profile with a bit of citrus.',\n",
       " 'contributed_by': 'Sam Mason <samjbmason>'}"
      ]
     },
     "execution_count": 12,
     "metadata": {},
     "output_type": "execute_result"
    }
   ],
   "source": [
    "# And to use the generator function, we call and iterate it:\n",
    "beers = iter_beers_from_api()\n",
    "next(beers)"
   ]
  },
  {
   "cell_type": "code",
   "execution_count": 13,
   "id": "091a431a",
   "metadata": {},
   "outputs": [
    {
     "data": {
      "text/plain": [
       "{'id': 2,\n",
       " 'name': 'Trashy Blonde',\n",
       " 'tagline': \"You Know You Shouldn't\",\n",
       " 'first_brewed': '04/2008',\n",
       " 'description': 'A titillating, neurotic, peroxide punk of a Pale Ale. Combining attitude, style, substance, and a little bit of low self esteem for good measure; what would your mother say? The seductive lure of the sassy passion fruit hop proves too much to resist. All that is even before we get onto the fact that there are no additives, preservatives, pasteurization or strings attached. All wrapped up with the customary BrewDog bite and imaginative twist.',\n",
       " 'image_url': 'https://images.punkapi.com/v2/2.png',\n",
       " 'abv': 4.1,\n",
       " 'ibu': 41.5,\n",
       " 'target_fg': 1010,\n",
       " 'target_og': 1041.7,\n",
       " 'ebc': 15,\n",
       " 'srm': 15,\n",
       " 'ph': 4.4,\n",
       " 'attenuation_level': 76,\n",
       " 'volume': {'value': 20, 'unit': 'litres'},\n",
       " 'boil_volume': {'value': 25, 'unit': 'litres'},\n",
       " 'method': {'mash_temp': [{'temp': {'value': 69, 'unit': 'celsius'},\n",
       "    'duration': None}],\n",
       "  'fermentation': {'temp': {'value': 18, 'unit': 'celsius'}},\n",
       "  'twist': None},\n",
       " 'ingredients': {'malt': [{'name': 'Maris Otter Extra Pale',\n",
       "    'amount': {'value': 3.25, 'unit': 'kilograms'}},\n",
       "   {'name': 'Caramalt', 'amount': {'value': 0.2, 'unit': 'kilograms'}},\n",
       "   {'name': 'Munich', 'amount': {'value': 0.4, 'unit': 'kilograms'}}],\n",
       "  'hops': [{'name': 'Amarillo',\n",
       "    'amount': {'value': 13.8, 'unit': 'grams'},\n",
       "    'add': 'start',\n",
       "    'attribute': 'bitter'},\n",
       "   {'name': 'Simcoe',\n",
       "    'amount': {'value': 13.8, 'unit': 'grams'},\n",
       "    'add': 'start',\n",
       "    'attribute': 'bitter'},\n",
       "   {'name': 'Amarillo',\n",
       "    'amount': {'value': 26.3, 'unit': 'grams'},\n",
       "    'add': 'end',\n",
       "    'attribute': 'flavour'},\n",
       "   {'name': 'Motueka',\n",
       "    'amount': {'value': 18.8, 'unit': 'grams'},\n",
       "    'add': 'end',\n",
       "    'attribute': 'flavour'}],\n",
       "  'yeast': 'Wyeast 1056 - American Ale™'},\n",
       " 'food_pairing': ['Fresh crab with lemon',\n",
       "  'Garlic butter dipping sauce',\n",
       "  'Goats cheese salad',\n",
       "  'Creamy lemon bar doused in powdered sugar'],\n",
       " 'brewers_tips': 'Be careful not to collect too much wort from the mash. Once the sugars are all washed out there are some very unpleasant grainy tasting compounds that can be extracted into the wort.',\n",
       " 'contributed_by': 'Sam Mason <samjbmason>'}"
      ]
     },
     "execution_count": 13,
     "metadata": {},
     "output_type": "execute_result"
    }
   ],
   "source": [
    "next(beers)"
   ]
  },
  {
   "cell_type": "markdown",
   "id": "c8d1bb74",
   "metadata": {},
   "source": [
    "You will notice that the first result of each page takes a bit longer. This is because it does a network request to fetch the page."
   ]
  },
  {
   "cell_type": "markdown",
   "id": "d604f25b",
   "metadata": {},
   "source": [
    "# Create a Table in the Database"
   ]
  },
  {
   "cell_type": "code",
   "execution_count": 14,
   "id": "1def5c8e",
   "metadata": {},
   "outputs": [],
   "source": [
    "# createdb -O alena testload"
   ]
  },
  {
   "cell_type": "code",
   "execution_count": 16,
   "id": "91c66394",
   "metadata": {},
   "outputs": [],
   "source": [
    "import psycopg2\n",
    "# conn = psycopg2.connect(\"host=127.0.0.1 dbname=sparkifydb user=alena password=12345\")\n",
    "connection = psycopg2.connect(\n",
    "    host='localhost',\n",
    "    dbname='udacity',\n",
    "    user='alena',\n",
    "    password='12345',\n",
    "    )\n",
    "connection.autocommit = True"
   ]
  },
  {
   "cell_type": "code",
   "execution_count": 25,
   "id": "69cb9422",
   "metadata": {},
   "outputs": [],
   "source": [
    "# The function receives a cursor and creates a unlogged table \n",
    "# called staging_beers.\n",
    "\n",
    "def create_staging_table(cursor) -> None:\n",
    "    cursor.execute(\"\"\"\n",
    "        DROP TABLE IF EXISTS staging_beers;\n",
    "        CREATE UNLOGGED TABLE staging_beers (\n",
    "            id                  INTEGER,\n",
    "            name                TEXT,\n",
    "            tagline             TEXT,\n",
    "            first_brewed        DATE,\n",
    "            description         TEXT,\n",
    "            image_url           TEXT,\n",
    "            abv                 DECIMAL,\n",
    "            ibu                 DECIMAL,\n",
    "            target_fg           DECIMAL,\n",
    "            target_og           DECIMAL,\n",
    "            ebc                 DECIMAL,\n",
    "            srm                 DECIMAL,\n",
    "            ph                  DECIMAL,\n",
    "            attenuation_level   DECIMAL,\n",
    "            brewers_tips        TEXT,\n",
    "            contributed_by      TEXT,\n",
    "            volume              INTEGER\n",
    "        );\n",
    "    \"\"\")"
   ]
  },
  {
   "cell_type": "markdown",
   "id": "52b6305c",
   "metadata": {},
   "source": [
    "Data written to an unlogged table will not be logged to the write-ahead-log (WAL), making it ideal for intermediate tables. Note that UNLOGGED tables will not be restored in case of a crash, and will not be replicated."
   ]
  },
  {
   "cell_type": "code",
   "execution_count": 26,
   "id": "b3b42906",
   "metadata": {},
   "outputs": [],
   "source": [
    "with connection.cursor() as cursor:\n",
    "    create_staging_table(cursor)"
   ]
  },
  {
   "cell_type": "markdown",
   "id": "28a2e0ef",
   "metadata": {},
   "source": [
    "# Metrics\n",
    "\n",
    "Throughout this article we are interested in two main metrics: time and memory."
   ]
  },
  {
   "cell_type": "markdown",
   "id": "abdb5064",
   "metadata": {},
   "source": [
    "## Measuring Time\n",
    "\n",
    "To measure time for each method we use the built-in [time module](https://docs.python.org/3/library/time.html):"
   ]
  },
  {
   "cell_type": "code",
   "execution_count": 27,
   "id": "f0ef7425",
   "metadata": {},
   "outputs": [
    {
     "name": "stdout",
     "output_type": "stream",
     "text": [
      "Time 1.001\n"
     ]
    }
   ],
   "source": [
    "import time\n",
    "start = time.perf_counter()\n",
    "time.sleep(1) # do work\n",
    "elapsed = time.perf_counter() - start\n",
    "print(f'Time {elapsed:0.4}')"
   ]
  },
  {
   "cell_type": "markdown",
   "id": "dbe0d82c",
   "metadata": {},
   "source": [
    "The function perf_counter provides the clock with the highest available resolution, which makes it ideal for our purposes."
   ]
  },
  {
   "cell_type": "markdown",
   "id": "0eea1ef4",
   "metadata": {},
   "source": [
    "## Measuring Memory\n",
    "\n",
    "To measure memory consumption, we are going to use the package [memory-profiler](https://pypi.org/project/memory-profiler/)."
   ]
  },
  {
   "cell_type": "code",
   "execution_count": 33,
   "id": "37d73b44",
   "metadata": {},
   "outputs": [],
   "source": [
    "# from memory_profiler import memory_usage\n",
    "\n",
    "# mem, retval = memory_usage((fn, args, kwargs), retval=True, interval=1e-7)"
   ]
  },
  {
   "cell_type": "markdown",
   "id": "54ba2c72",
   "metadata": {},
   "source": [
    "## profile Decorator\n",
    "\n",
    "To put it all together, we create the following decorator to measure and report time and memory:"
   ]
  },
  {
   "cell_type": "code",
   "execution_count": 31,
   "id": "80908d35",
   "metadata": {},
   "outputs": [],
   "source": [
    "import time\n",
    "from functools import wraps\n",
    "from memory_profiler import memory_usage\n",
    "\n",
    "def profile(fn):\n",
    "    @wraps(fn)\n",
    "    def inner(*args, **kwargs):\n",
    "        fn_kwargs_str = ', '.join(f'{k}={v}' for k, v in kwargs.items())\n",
    "        print(f'\\n{fn.__name__}({fn_kwargs_str})')\n",
    "\n",
    "        # Measure time\n",
    "        t = time.perf_counter()\n",
    "        retval = fn(*args, **kwargs)\n",
    "        elapsed = time.perf_counter() - t\n",
    "        print(f'Time   {elapsed:0.4}')\n",
    "\n",
    "        # Measure memory\n",
    "        mem, retval = memory_usage((fn, args, kwargs), retval=True, timeout=200, interval=1e-7)\n",
    "\n",
    "        print(f'Memory {max(mem) - min(mem)}')\n",
    "        return retval\n",
    "\n",
    "    return inner"
   ]
  },
  {
   "cell_type": "markdown",
   "id": "0974349e",
   "metadata": {},
   "source": [
    "To eliminate mutual effects of the timing on the memory and vice versa, we execute the function twice. First to time it, second to measure the memory usage.<br><br>\n",
    "The decorator will print the function name and any keyword arguments, and report the time and memory used:"
   ]
  },
  {
   "cell_type": "code",
   "execution_count": 32,
   "id": "7ae5989d",
   "metadata": {},
   "outputs": [
    {
     "name": "stdout",
     "output_type": "stream",
     "text": [
      "\n",
      "work()\n",
      "Time   7.4e-06\n",
      "Memory 0.0703125\n"
     ]
    }
   ],
   "source": [
    "@profile\n",
    "def work(n):\n",
    "    for i in range(n):\n",
    "        2 ** n\n",
    "        \n",
    "work(10)"
   ]
  },
  {
   "cell_type": "code",
   "execution_count": 34,
   "id": "8c42f526",
   "metadata": {},
   "outputs": [
    {
     "name": "stdout",
     "output_type": "stream",
     "text": [
      "\n",
      "work(n=1000)\n",
      "Time   0.001204\n",
      "Memory 0.0\n"
     ]
    }
   ],
   "source": [
    "work(n=1000)"
   ]
  },
  {
   "cell_type": "markdown",
   "id": "ef8a0750",
   "metadata": {},
   "source": [
    "Only keywords arguments are printed. This is intentional, we are going to use that in parameterized tests."
   ]
  },
  {
   "cell_type": "markdown",
   "id": "72d2b19e",
   "metadata": {},
   "source": [
    "# Benchmark\n",
    "\n",
    "At the time of writing, the beers API contains only 325 beers. To work on a large dataset, we duplicate it 100 times and store it in-memory. The resulting dataset contains 32,500 beers:"
   ]
  },
  {
   "cell_type": "code",
   "execution_count": 36,
   "id": "58951656",
   "metadata": {},
   "outputs": [
    {
     "data": {
      "text/plain": [
       "32500"
      ]
     },
     "execution_count": 36,
     "metadata": {},
     "output_type": "execute_result"
    }
   ],
   "source": [
    "beers = list(iter_beers_from_api()) * 100\n",
    "len(beers)"
   ]
  },
  {
   "cell_type": "markdown",
   "id": "4470a3b9",
   "metadata": {},
   "source": [
    "To imitate a remote API, our functions will accept iterators similar to the return value of iter_beers_from_api"
   ]
  },
  {
   "cell_type": "code",
   "execution_count": null,
   "id": "3217caff",
   "metadata": {},
   "outputs": [],
   "source": [
    "def process(beers: Iterator[Dict[str, Any]]) -> None:\n",
    "    # Process beers..."
   ]
  },
  {
   "cell_type": "markdown",
   "id": "b233eaab",
   "metadata": {},
   "source": [
    "For the benchmark, we are going to import the beer data into the database. To eliminate external influences such as the network, we fetch the data from the API in advance, and serve it locally.<br><br>\n",
    "To get an accurate timing, we \"fake\" the remote API:"
   ]
  },
  {
   "cell_type": "code",
   "execution_count": 37,
   "id": "0c6f65e9",
   "metadata": {},
   "outputs": [
    {
     "ename": "NameError",
     "evalue": "name 'process' is not defined",
     "output_type": "error",
     "traceback": [
      "\u001b[0;31m---------------------------------------------------------------------------\u001b[0m",
      "\u001b[0;31mNameError\u001b[0m                                 Traceback (most recent call last)",
      "\u001b[0;32m<ipython-input-37-7d51ca924bd6>\u001b[0m in \u001b[0;36m<module>\u001b[0;34m\u001b[0m\n\u001b[1;32m      1\u001b[0m \u001b[0mbeers\u001b[0m \u001b[0;34m=\u001b[0m \u001b[0mlist\u001b[0m\u001b[0;34m(\u001b[0m\u001b[0miter_beers_from_api\u001b[0m\u001b[0;34m(\u001b[0m\u001b[0;34m)\u001b[0m\u001b[0;34m)\u001b[0m \u001b[0;34m*\u001b[0m \u001b[0;36m100\u001b[0m\u001b[0;34m\u001b[0m\u001b[0;34m\u001b[0m\u001b[0m\n\u001b[0;32m----> 2\u001b[0;31m \u001b[0mprocess\u001b[0m\u001b[0;34m(\u001b[0m\u001b[0mbeers\u001b[0m\u001b[0;34m)\u001b[0m\u001b[0;34m\u001b[0m\u001b[0;34m\u001b[0m\u001b[0m\n\u001b[0m",
      "\u001b[0;31mNameError\u001b[0m: name 'process' is not defined"
     ]
    }
   ],
   "source": [
    "beers = list(iter_beers_from_api()) * 100\n",
    "process(beers)"
   ]
  },
  {
   "cell_type": "markdown",
   "id": "a751eecc",
   "metadata": {},
   "source": [
    "In a real life situation you would use the function iter_beers_from_api directly:"
   ]
  },
  {
   "cell_type": "code",
   "execution_count": 39,
   "id": "1bb10e59",
   "metadata": {},
   "outputs": [],
   "source": [
    "# process(iter_beers_from_api())"
   ]
  },
  {
   "cell_type": "markdown",
   "id": "bd811140",
   "metadata": {},
   "source": [
    "# Insert Rows One by One\n",
    "\n",
    "To establish a baseline we start with the simplest approach, insert rows one by one:"
   ]
  },
  {
   "cell_type": "code",
   "execution_count": 41,
   "id": "ac666ae3",
   "metadata": {},
   "outputs": [],
   "source": [
    "@profile\n",
    "def insert_one_by_one(connection, beers: Iterator[Dict[str, Any]]) -> None:\n",
    "    with connection.cursor() as cursor:\n",
    "        create_staging_table(cursor)\n",
    "        for beer in beers:\n",
    "            cursor.execute(\"\"\"\n",
    "                INSERT INTO staging_beers VALUES (\n",
    "                    %(id)s,\n",
    "                    %(name)s,\n",
    "                    %(tagline)s,\n",
    "                    %(first_brewed)s,\n",
    "                    %(description)s,\n",
    "                    %(image_url)s,\n",
    "                    %(abv)s,\n",
    "                    %(ibu)s,\n",
    "                    %(target_fg)s,\n",
    "                    %(target_og)s,\n",
    "                    %(ebc)s,\n",
    "                    %(srm)s,\n",
    "                    %(ph)s,\n",
    "                    %(attenuation_level)s,\n",
    "                    %(brewers_tips)s,\n",
    "                    %(contributed_by)s,\n",
    "                    %(volume)s\n",
    "                );\n",
    "            \"\"\", {\n",
    "                **beer,\n",
    "                'first_brewed': parse_first_brewed(beer['first_brewed']),\n",
    "                'volume': beer['volume']['value'],\n",
    "            })\n"
   ]
  },
  {
   "cell_type": "markdown",
   "id": "3f14b81a",
   "metadata": {},
   "source": [
    "Notice that as we iterate the beers, we transform the first_brewed to a datetime.date and extracted the volume value from the nested volume field.\n",
    "\n",
    "Running this function produces the following output:"
   ]
  },
  {
   "cell_type": "code",
   "execution_count": 42,
   "id": "ad4d6817",
   "metadata": {},
   "outputs": [
    {
     "name": "stdout",
     "output_type": "stream",
     "text": [
      "\n",
      "insert_one_by_one()\n",
      "Time   5.761\n",
      "Memory 0.0078125\n"
     ]
    }
   ],
   "source": [
    "insert_one_by_one(connection, beers)"
   ]
  },
  {
   "cell_type": "markdown",
   "id": "93d1c969",
   "metadata": {},
   "source": [
    "The function took 129 seconds to import 32K rows. The memory profiler shows that the function consumed very little memory.\n",
    "\n",
    "Intuitively, inserting rows one by one does not sound very efficient. The constant context switching between the program and the database must be slowing it down."
   ]
  },
  {
   "cell_type": "markdown",
   "id": "26e1f7aa",
   "metadata": {},
   "source": [
    "## Execute Many\n",
    "\n",
    "Psycopg2 provides a way to insert many rows at once using [executemany](http://initd.org/psycopg/docs/cursor.html#cursor.executemany). From the docs:"
   ]
  },
  {
   "cell_type": "code",
   "execution_count": 44,
   "id": "d53b71d2",
   "metadata": {},
   "outputs": [],
   "source": [
    "@profile\n",
    "def insert_executemany(connection, beers: Iterator[Dict[str, Any]]) -> None:\n",
    "    with connection.cursor() as cursor:\n",
    "        create_staging_table(cursor)\n",
    "\n",
    "        all_beers = [{\n",
    "            **beer,\n",
    "            'first_brewed': parse_first_brewed(beer['first_brewed']),\n",
    "            'volume': beer['volume']['value'],\n",
    "        } for beer in beers]\n",
    "\n",
    "        cursor.executemany(\"\"\"\n",
    "            INSERT INTO staging_beers VALUES (\n",
    "                %(id)s,\n",
    "                %(name)s,\n",
    "                %(tagline)s,\n",
    "                %(first_brewed)s,\n",
    "                %(description)s,\n",
    "                %(image_url)s,\n",
    "                %(abv)s,\n",
    "                %(ibu)s,\n",
    "                %(target_fg)s,\n",
    "                %(target_og)s,\n",
    "                %(ebc)s,\n",
    "                %(srm)s,\n",
    "                %(ph)s,\n",
    "                %(attenuation_level)s,\n",
    "                %(brewers_tips)s,\n",
    "                %(contributed_by)s,\n",
    "                %(volume)s\n",
    "            );\n",
    "        \"\"\", all_beers)"
   ]
  },
  {
   "cell_type": "markdown",
   "id": "435cb8e5",
   "metadata": {},
   "source": [
    "The function looks very similar to the previous function, and the transformations are the same. The main difference here is that we first **transform all of the data in-memory, and only then import it to the database.**\n",
    "\n",
    "Running this function produces the following output:"
   ]
  },
  {
   "cell_type": "code",
   "execution_count": 45,
   "id": "cfd27e52",
   "metadata": {},
   "outputs": [
    {
     "name": "stdout",
     "output_type": "stream",
     "text": [
      "\n",
      "insert_executemany()\n",
      "Time   5.472\n",
      "Memory 0.15625\n"
     ]
    }
   ],
   "source": [
    "insert_executemany(connection, beers)"
   ]
  },
  {
   "cell_type": "markdown",
   "id": "6f4e5f19",
   "metadata": {},
   "source": [
    "This is disappointing. The timing is just a little bit better, but the function now consumes 2.7MB of memory.(in my case it's 156KB)\n",
    "\n",
    "To put the memory usage in perspective, a JSON file containing only the data we import weighs 25MB on disk. Considering the proportion, using this method to import a 1GB file will require 110MB of memory."
   ]
  },
  {
   "cell_type": "markdown",
   "id": "67a4f3f6",
   "metadata": {},
   "source": [
    "## Execute Many From Iterator\n",
    "\n",
    "The previous method consumed a lot of memory because the transformed data was stored in-memory before being processed by psycopg.\n",
    "\n",
    "Let's see if we can use an iterator to avoid storing the data in-memory:"
   ]
  },
  {
   "cell_type": "code",
   "execution_count": 47,
   "id": "6050634a",
   "metadata": {},
   "outputs": [],
   "source": [
    "@profile\n",
    "def insert_executemany_iterator(connection, beers: Iterator[Dict[str, Any]]) -> None:\n",
    "    with connection.cursor() as cursor:\n",
    "        create_staging_table(cursor)\n",
    "        cursor.executemany(\"\"\"\n",
    "            INSERT INTO staging_beers VALUES (\n",
    "                %(id)s,\n",
    "                %(name)s,\n",
    "                %(tagline)s,\n",
    "                %(first_brewed)s,\n",
    "                %(description)s,\n",
    "                %(image_url)s,\n",
    "                %(abv)s,\n",
    "                %(ibu)s,\n",
    "                %(target_fg)s,\n",
    "                %(target_og)s,\n",
    "                %(ebc)s,\n",
    "                %(srm)s,\n",
    "                %(ph)s,\n",
    "                %(attenuation_level)s,\n",
    "                %(brewers_tips)s,\n",
    "                %(contributed_by)s,\n",
    "                %(volume)s\n",
    "            );\n",
    "        \"\"\", ({\n",
    "            **beer,\n",
    "            'first_brewed': parse_first_brewed(beer['first_brewed']),\n",
    "            'volume': beer['volume']['value'],\n",
    "        } for beer in beers))\n"
   ]
  },
  {
   "cell_type": "markdown",
   "id": "d1429898",
   "metadata": {},
   "source": [
    "The difference here is that the transformed data is \"streamed\" into executemany using an iterator.\n",
    "\n",
    "This function produces the following result:"
   ]
  },
  {
   "cell_type": "code",
   "execution_count": 48,
   "id": "d38ff0a1",
   "metadata": {},
   "outputs": [
    {
     "name": "stdout",
     "output_type": "stream",
     "text": [
      "\n",
      "insert_executemany_iterator()\n",
      "Time   5.921\n",
      "Memory 0.0\n"
     ]
    }
   ],
   "source": [
    "insert_executemany_iterator(connection, beers)"
   ]
  },
  {
   "cell_type": "markdown",
   "id": "ec90d764",
   "metadata": {},
   "source": [
    "Our \"streaming\" solution worked as expected and we managed to bring the memory to zero. The timing however, remains roughly the same, even compared to the one-by-one method."
   ]
  },
  {
   "cell_type": "markdown",
   "id": "4cea5b0f",
   "metadata": {},
   "source": [
    "## Execute Batch\n",
    "\n",
    "The psycopg documentation has a very interesting note about executemany in the [\"fast execution helpers\"](http://initd.org/psycopg/docs/extras.html#fast-execution-helpers) section:\n",
    "> _The current implementation of executemany() is (using an extremely charitable understatement) not particularly performing. These functions can be used to speed up the repeated execution of a statement against a set of parameters. By reducing the number of server roundtrips the performance can be orders of magnitude better than using executemany()._\n",
    "\n",
    "So we've been doing it wrong all along!\n",
    "\n",
    "The function just below this section is [execute_batch](http://initd.org/psycopg/docs/extras.html#psycopg2.extras.execute_batch):\n",
    "\n",
    "> _Execute groups of statements in fewer server roundtrips._\n",
    "\n",
    "Let's implement the loading function using `execute_batch`:\n",
    "\n"
   ]
  },
  {
   "cell_type": "code",
   "execution_count": 50,
   "id": "1f161d34",
   "metadata": {},
   "outputs": [],
   "source": [
    "import psycopg2.extras\n",
    "\n",
    "@profile\n",
    "def insert_execute_batch(connection, beers: Iterator[Dict[str, Any]]) -> None:\n",
    "    with connection.cursor() as cursor:\n",
    "        create_staging_table(cursor)\n",
    "\n",
    "        all_beers = [{\n",
    "            **beer,\n",
    "            'first_brewed': parse_first_brewed(beer['first_brewed']),\n",
    "            'volume': beer['volume']['value'],\n",
    "        } for beer in beers]\n",
    "\n",
    "        psycopg2.extras.execute_batch(cursor, \"\"\"\n",
    "            INSERT INTO staging_beers VALUES (\n",
    "                %(id)s,\n",
    "                %(name)s,\n",
    "                %(tagline)s,\n",
    "                %(first_brewed)s,\n",
    "                %(description)s,\n",
    "                %(image_url)s,\n",
    "                %(abv)s,\n",
    "                %(ibu)s,\n",
    "                %(target_fg)s,\n",
    "                %(target_og)s,\n",
    "                %(ebc)s,\n",
    "                %(srm)s,\n",
    "                %(ph)s,\n",
    "                %(attenuation_level)s,\n",
    "                %(brewers_tips)s,\n",
    "                %(contributed_by)s,\n",
    "                %(volume)s\n",
    "            );\n",
    "        \"\"\", all_beers)\n"
   ]
  },
  {
   "cell_type": "code",
   "execution_count": 51,
   "id": "a3cb33bf",
   "metadata": {},
   "outputs": [
    {
     "name": "stdout",
     "output_type": "stream",
     "text": [
      "\n",
      "insert_execute_batch()\n",
      "Time   3.222\n",
      "Memory 0.0\n"
     ]
    }
   ],
   "source": [
    "insert_execute_batch(connection, beers)"
   ]
  },
  {
   "cell_type": "markdown",
   "id": "a7577382",
   "metadata": {},
   "source": [
    "Wow! That's a huge leap. The function completed in just under 3 seconds. That's ~33 (me ~2) times faster than the 129 (me 6)seconds we started with."
   ]
  },
  {
   "cell_type": "markdown",
   "id": "7175d2fc",
   "metadata": {},
   "source": [
    "## Execute Batch From Iterator\n",
    "\n",
    "The function execute_batch used less memory than executemany did for the same data. Let's try to eliminate memory by \"streaming\" the data into execute_batch using an iterator:"
   ]
  },
  {
   "cell_type": "code",
   "execution_count": 55,
   "id": "94aa62b1",
   "metadata": {},
   "outputs": [],
   "source": [
    "@profile\n",
    "def insert_execute_batch_iterator(connection, \n",
    "                                  beers: Iterator[Dict[str, Any]]) -> None:\n",
    "    with connection.cursor() as cursor:\n",
    "        create_staging_table(cursor)\n",
    "\n",
    "        iter_beers = ({\n",
    "            **beer,\n",
    "            'first_brewed': parse_first_brewed(beer['first_brewed']),\n",
    "            'volume': beer['volume']['value'],\n",
    "        } for beer in beers)\n",
    "\n",
    "        psycopg2.extras.execute_batch(cursor, \"\"\"\n",
    "            INSERT INTO staging_beers VALUES (\n",
    "                %(id)s,\n",
    "                %(name)s,\n",
    "                %(tagline)s,\n",
    "                %(first_brewed)s,\n",
    "                %(description)s,\n",
    "                %(image_url)s,\n",
    "                %(abv)s,\n",
    "                %(ibu)s,\n",
    "                %(target_fg)s,\n",
    "                %(target_og)s,\n",
    "                %(ebc)s,\n",
    "                %(srm)s,\n",
    "                %(ph)s,\n",
    "                %(attenuation_level)s,\n",
    "                %(brewers_tips)s,\n",
    "                %(contributed_by)s,\n",
    "                %(volume)s\n",
    "            );\n",
    "        \"\"\", iter_beers)"
   ]
  },
  {
   "cell_type": "code",
   "execution_count": 54,
   "id": "a94eca58",
   "metadata": {},
   "outputs": [
    {
     "name": "stdout",
     "output_type": "stream",
     "text": [
      "\n",
      "insert_execute_batch_iterator()\n",
      "Time   3.32\n",
      "Memory 0.0\n"
     ]
    }
   ],
   "source": [
    "insert_execute_batch_iterator(connection, beers)"
   ]
  },
  {
   "cell_type": "markdown",
   "id": "ecb174c9",
   "metadata": {},
   "source": [
    "Kinda the same thing( they had a little less memory)"
   ]
  },
  {
   "cell_type": "markdown",
   "id": "880f9c6e",
   "metadata": {},
   "source": [
    "## Execute Batch From Iterator with Page Size\n",
    "\n",
    "When reading though [the documentation for execute_batch](http://initd.org/psycopg/docs/extras.html#psycopg2.extras.execute_batch), the argument page_size caught my eye:\n",
    "\n",
    "> _page_size – maximum number of argslist items to include in every statement. If there are more items the function will execute more than one statement._\n",
    "\n",
    "The documentation previously stated that the function performs better because it does less roundtrips to the database. If that's the case, a larger page size should reduce the number of roundtrips, and result in a faster loading time.\n",
    "\n",
    "Let's add an argument for page size to our function so we can experiment:"
   ]
  },
  {
   "cell_type": "code",
   "execution_count": 56,
   "id": "62d353be",
   "metadata": {},
   "outputs": [],
   "source": [
    "@profile\n",
    "def insert_execute_batch_iterator(\n",
    "    connection,\n",
    "    beers: Iterator[Dict[str, Any]],\n",
    "    page_size: int = 100,\n",
    ") -> None:\n",
    "    with connection.cursor() as cursor:\n",
    "        create_staging_table(cursor)\n",
    "\n",
    "        iter_beers = ({\n",
    "            **beer,\n",
    "            'first_brewed': parse_first_brewed(beer['first_brewed']),\n",
    "            'volume': beer['volume']['value'],\n",
    "        } for beer in beers)\n",
    "\n",
    "        psycopg2.extras.execute_batch(cursor, \"\"\"\n",
    "            INSERT INTO staging_beers VALUES (\n",
    "                %(id)s,\n",
    "                %(name)s,\n",
    "                %(tagline)s,\n",
    "                %(first_brewed)s,\n",
    "                %(description)s,\n",
    "                %(image_url)s,\n",
    "                %(abv)s,\n",
    "                %(ibu)s,\n",
    "                %(target_fg)s,\n",
    "                %(target_og)s,\n",
    "                %(ebc)s,\n",
    "                %(srm)s,\n",
    "                %(ph)s,\n",
    "                %(attenuation_level)s,\n",
    "                %(brewers_tips)s,\n",
    "                %(contributed_by)s,\n",
    "                %(volume)s\n",
    "            );\n",
    "        \"\"\", iter_beers, page_size=page_size)"
   ]
  },
  {
   "cell_type": "markdown",
   "id": "9153baa8",
   "metadata": {},
   "source": [
    "The default page size is 100. Let's benchmark different values and compare the results:"
   ]
  },
  {
   "cell_type": "code",
   "execution_count": 57,
   "id": "d2c849ad",
   "metadata": {},
   "outputs": [
    {
     "name": "stdout",
     "output_type": "stream",
     "text": [
      "\n",
      "insert_execute_batch_iterator(page_size=1)\n",
      "Time   5.655\n",
      "Memory 0.0\n"
     ]
    }
   ],
   "source": [
    "insert_execute_batch_iterator(connection, iter(beers), page_size=1)"
   ]
  },
  {
   "cell_type": "code",
   "execution_count": 58,
   "id": "f76b8053",
   "metadata": {},
   "outputs": [
    {
     "name": "stdout",
     "output_type": "stream",
     "text": [
      "\n",
      "insert_execute_batch_iterator(page_size=100)\n",
      "Time   3.14\n",
      "Memory 0.0\n"
     ]
    }
   ],
   "source": [
    "insert_execute_batch_iterator(connection, iter(beers), page_size=100)"
   ]
  },
  {
   "cell_type": "code",
   "execution_count": 59,
   "id": "523b27bb",
   "metadata": {},
   "outputs": [
    {
     "name": "stdout",
     "output_type": "stream",
     "text": [
      "\n",
      "insert_execute_batch_iterator(page_size=1000)\n",
      "Time   2.409\n",
      "Memory 0.0\n"
     ]
    }
   ],
   "source": [
    "insert_execute_batch_iterator(connection, iter(beers), page_size=1000)"
   ]
  },
  {
   "cell_type": "code",
   "execution_count": 60,
   "id": "2dd02de5",
   "metadata": {},
   "outputs": [
    {
     "name": "stdout",
     "output_type": "stream",
     "text": [
      "\n",
      "insert_execute_batch_iterator(page_size=10000)\n",
      "Time   2.243\n",
      "Memory 0.0\n"
     ]
    }
   ],
   "source": [
    "insert_execute_batch_iterator(connection, iter(beers), page_size=10000)"
   ]
  },
  {
   "cell_type": "markdown",
   "id": "b02e088c",
   "metadata": {},
   "source": [
    "We got some interesting results, let's break it down:\n",
    "\n",
    "- 1: The results are similar to the results we got inserting rows one by one.\n",
    "- 100: This is the default page_size, so the results are similar to our previous benchmark.\n",
    "- 1000: The timing here is about 40% faster, and the memory is low.\n",
    "- 10000: Timing is not much faster than with a page size of 1000, but the memory is significantly higher.\n",
    "\n",
    "The results show that there is a tradeoff between memory and speed. In this case, it seems that the sweet spot is page size of 1000."
   ]
  },
  {
   "cell_type": "markdown",
   "id": "4f99c176",
   "metadata": {},
   "source": [
    "## Execute Values\n",
    "\n",
    "The gems in psycopg's documentation does not end with execute_batch. While strolling through the documentation, another function called [execute_values](http://initd.org/psycopg/docs/extras.html#psycopg2.extras.execute_values) caught my eye:\n",
    "\n",
    "> _Execute a statement using VALUES with a sequence of parameters._\n",
    "\n",
    "The function `execute_values` works by generating a huge %VALUES  list% to the query.\n",
    "\n",
    "Let's give it a spin:"
   ]
  },
  {
   "cell_type": "code",
   "execution_count": 62,
   "id": "b1d3fdc5",
   "metadata": {},
   "outputs": [],
   "source": [
    "import psycopg2.extras\n",
    "\n",
    "@profile\n",
    "def insert_execute_values(connection, \n",
    "                          beers: Iterator[Dict[str, Any]]) -> None:\n",
    "    with connection.cursor() as cursor:\n",
    "        create_staging_table(cursor)\n",
    "        psycopg2.extras.execute_values(cursor, \"\"\"\n",
    "            INSERT INTO staging_beers VALUES %s;\n",
    "        \"\"\", [(\n",
    "            beer['id'],\n",
    "            beer['name'],\n",
    "            beer['tagline'],\n",
    "            parse_first_brewed(beer['first_brewed']),\n",
    "            beer['description'],\n",
    "            beer['image_url'],\n",
    "            beer['abv'],\n",
    "            beer['ibu'],\n",
    "            beer['target_fg'],\n",
    "            beer['target_og'],\n",
    "            beer['ebc'],\n",
    "            beer['srm'],\n",
    "            beer['ph'],\n",
    "            beer['attenuation_level'],\n",
    "            beer['brewers_tips'],\n",
    "            beer['contributed_by'],\n",
    "            beer['volume']['value'],\n",
    "        ) for beer in beers])\n"
   ]
  },
  {
   "cell_type": "code",
   "execution_count": 63,
   "id": "2ea6c82d",
   "metadata": {},
   "outputs": [
    {
     "name": "stdout",
     "output_type": "stream",
     "text": [
      "\n",
      "insert_execute_values()\n",
      "Time   1.767\n",
      "Memory 2.5\n"
     ]
    }
   ],
   "source": [
    "insert_execute_values(connection, beers)"
   ]
  },
  {
   "cell_type": "markdown",
   "id": "ccee4383",
   "metadata": {},
   "source": [
    "So right out of the box we get a slight speedup compared to execute_batch. However, the memory is slightly higher."
   ]
  },
  {
   "cell_type": "markdown",
   "id": "7ff732d3",
   "metadata": {},
   "source": [
    "## Execute Values From Iterator\n",
    "\n",
    "Just like we did before, to reduce memory consumption we try to avoid storing data in-memory by using an iterator instead of a list:"
   ]
  },
  {
   "cell_type": "code",
   "execution_count": 65,
   "id": "ff5fd445",
   "metadata": {},
   "outputs": [],
   "source": [
    "@profile\n",
    "def insert_execute_values_iterator(connection, beers: Iterator[Dict[str, Any]]) -> None:\n",
    "    with connection.cursor() as cursor:\n",
    "        create_staging_table(cursor)\n",
    "        psycopg2.extras.execute_values(cursor, \"\"\"\n",
    "            INSERT INTO staging_beers VALUES %s;\n",
    "        \"\"\", ((\n",
    "            beer['id'],\n",
    "            beer['name'],\n",
    "            beer['tagline'],\n",
    "            parse_first_brewed(beer['first_brewed']),\n",
    "            beer['description'],\n",
    "            beer['image_url'],\n",
    "            beer['abv'],\n",
    "            beer['ibu'],\n",
    "            beer['target_fg'],\n",
    "            beer['target_og'],\n",
    "            beer['ebc'],\n",
    "            beer['srm'],\n",
    "            beer['ph'],\n",
    "            beer['attenuation_level'],\n",
    "            beer['brewers_tips'],\n",
    "            beer['contributed_by'],\n",
    "            beer['volume']['value'],\n",
    "        ) for beer in beers))\n"
   ]
  },
  {
   "cell_type": "code",
   "execution_count": 66,
   "id": "ca6e4abf",
   "metadata": {},
   "outputs": [
    {
     "name": "stdout",
     "output_type": "stream",
     "text": [
      "\n",
      "insert_execute_values_iterator()\n",
      "Time   1.765\n",
      "Memory 0.0\n"
     ]
    }
   ],
   "source": [
    "insert_execute_values_iterator(connection, beers)"
   ]
  },
  {
   "cell_type": "markdown",
   "id": "78be640f",
   "metadata": {},
   "source": [
    "So the timing is almost the same, but the memory is back to zero."
   ]
  },
  {
   "cell_type": "markdown",
   "id": "c0357ab4",
   "metadata": {},
   "source": [
    "## Execute Values From Iterator with Page Size\n",
    "\n",
    "Just like execute_batch, the function execute_values also accept a page_size argument:"
   ]
  },
  {
   "cell_type": "code",
   "execution_count": 67,
   "id": "e09074b5",
   "metadata": {},
   "outputs": [],
   "source": [
    "@profile\n",
    "def insert_execute_values_iterator(\n",
    "    connection,\n",
    "    beers: Iterator[Dict[str, Any]],\n",
    "    page_size: int = 100,\n",
    ") -> None:\n",
    "    with connection.cursor() as cursor:\n",
    "        create_staging_table(cursor)\n",
    "        psycopg2.extras.execute_values(cursor, \"\"\"\n",
    "            INSERT INTO staging_beers VALUES %s;\n",
    "        \"\"\", ((\n",
    "            beer['id'],\n",
    "            beer['name'],\n",
    "            beer['tagline'],\n",
    "            parse_first_brewed(beer['first_brewed']),\n",
    "            beer['description'],\n",
    "            beer['image_url'],\n",
    "            beer['abv'],\n",
    "            beer['ibu'],\n",
    "            beer['target_fg'],\n",
    "            beer['target_og'],\n",
    "            beer['ebc'],\n",
    "            beer['srm'],\n",
    "            beer['ph'],\n",
    "            beer['attenuation_level'],\n",
    "            beer['brewers_tips'],\n",
    "            beer['contributed_by'],\n",
    "            beer['volume']['value'],\n",
    "        ) for beer in beers), page_size=page_size)"
   ]
  },
  {
   "cell_type": "code",
   "execution_count": 68,
   "id": "e457b416",
   "metadata": {},
   "outputs": [
    {
     "name": "stdout",
     "output_type": "stream",
     "text": [
      "\n",
      "insert_execute_values_iterator(page_size=1)\n",
      "Time   5.214\n",
      "Memory 0.0\n"
     ]
    }
   ],
   "source": [
    "insert_execute_values_iterator(connection, iter(beers), page_size=1)"
   ]
  },
  {
   "cell_type": "code",
   "execution_count": 69,
   "id": "2dd6c9be",
   "metadata": {},
   "outputs": [
    {
     "name": "stdout",
     "output_type": "stream",
     "text": [
      "\n",
      "insert_execute_values_iterator(page_size=100)\n",
      "Time   1.72\n",
      "Memory 0.0\n"
     ]
    }
   ],
   "source": [
    "insert_execute_values_iterator(connection, iter(beers), page_size=100)"
   ]
  },
  {
   "cell_type": "code",
   "execution_count": 70,
   "id": "8c783234",
   "metadata": {},
   "outputs": [
    {
     "name": "stdout",
     "output_type": "stream",
     "text": [
      "\n",
      "insert_execute_values_iterator(page_size=1000)\n",
      "Time   1.304\n",
      "Memory 0.0\n"
     ]
    }
   ],
   "source": [
    "insert_execute_values_iterator(connection, iter(beers), page_size=1000)"
   ]
  },
  {
   "cell_type": "code",
   "execution_count": 71,
   "id": "9676939e",
   "metadata": {},
   "outputs": [
    {
     "name": "stdout",
     "output_type": "stream",
     "text": [
      "\n",
      "insert_execute_values_iterator(page_size=10000)\n",
      "Time   1.361\n",
      "Memory 0.0\n"
     ]
    }
   ],
   "source": [
    "insert_execute_values_iterator(connection, iter(beers), page_size=10000)"
   ]
  },
  {
   "cell_type": "markdown",
   "id": "891117f4",
   "metadata": {},
   "source": [
    "Just like execute_batch, we see a tradeoff between memory and speed. Here as well, the sweet spot is around page size 1000. However, using execute_values we got results ~20% faster compared to the same page size using execute_batch."
   ]
  },
  {
   "cell_type": "markdown",
   "id": "bbdeb693",
   "metadata": {},
   "source": [
    "***\n",
    "\n",
    "# Copy\n",
    "\n",
    "The official documentation for PostgreSQL features an entire section on [Populating a Database](https://www.postgresql.org/docs/current/populate.html#POPULATE-COPY-FROM). According to the documentation, the best way to load data into a database is using the [copy command](https://www.postgresql.org/docs/current/sql-copy.html).\n",
    "\n",
    "To use copy from Python, psycopg provides a special function called [copy_from](http://initd.org/psycopg/docs/cursor.html#cursor.copy_from). The copy command requires a CSV file. Let's see if we can transform our data into CSV, and load it into the database using copy_from:"
   ]
  },
  {
   "cell_type": "code",
   "execution_count": 74,
   "id": "d6c913df",
   "metadata": {},
   "outputs": [],
   "source": [
    "import io\n",
    "from typing import Optional\n",
    "\n",
    "def clean_csv_value(value: Optional[Any]) -> str:\n",
    "    if value is None:\n",
    "        return r'\\N'\n",
    "    return str(value).replace('\\n', '\\\\n')\n",
    "\n",
    "@profile\n",
    "def copy_stringio(connection, beers: Iterator[Dict[str, Any]]) -> None:\n",
    "    with connection.cursor() as cursor:\n",
    "        create_staging_table(cursor)\n",
    "        csv_file_like_object = io.StringIO()\n",
    "        for beer in beers:\n",
    "            csv_file_like_object.write('|'.join(map(clean_csv_value, (\n",
    "                beer['id'],\n",
    "                beer['name'],\n",
    "                beer['tagline'],\n",
    "                parse_first_brewed(beer['first_brewed']),\n",
    "                beer['description'],\n",
    "                beer['image_url'],\n",
    "                beer['abv'],\n",
    "                beer['ibu'],\n",
    "                beer['target_fg'],\n",
    "                beer['target_og'],\n",
    "                beer['ebc'],\n",
    "                beer['srm'],\n",
    "                beer['ph'],\n",
    "                beer['attenuation_level'],\n",
    "                beer['contributed_by'],\n",
    "                beer['brewers_tips'],\n",
    "                beer['volume']['value'],\n",
    "            ))) + '\\n')\n",
    "        csv_file_like_object.seek(0)\n",
    "        cursor.copy_from(csv_file_like_object, 'staging_beers', sep='|')"
   ]
  },
  {
   "cell_type": "markdown",
   "id": "0d29f266",
   "metadata": {},
   "source": [
    "Let's break it down:\n",
    "\n",
    "- clean_csv_value: Transforms a single value\n",
    "    - Escape new lines: some of the text fields include newlines, so we escape \\n -> \\\\n.\n",
    "    - Empty values are transformed to \\N: The string \"\\N\" is the default string used by PostgreSQL to indicate NULL in COPY (this can be changed using the NULL option).\n",
    "- csv_file_like_object: Generate a file like object using io.StringIO. A StringIO object contains a string which can be used like a file. In our case, a CSV file.\n",
    "- csv_file_like_object.write: Transform a beer to a CSV row\n",
    "    - Transform the data: transformations on first_brewed and volume are performed here.\n",
    "    - Pick a delimiter: Some of the fields in the dataset contain free text with commas. To prevent conflicts, we pick \"|\" as the delimiter (another option is to use QUOTE).\n",
    "\n",
    "Now let's see if all of this hard work paid off:"
   ]
  },
  {
   "cell_type": "code",
   "execution_count": 75,
   "id": "77406b3e",
   "metadata": {},
   "outputs": [
    {
     "name": "stdout",
     "output_type": "stream",
     "text": [
      "\n",
      "copy_stringio()\n",
      "Time   0.4774\n",
      "Memory 100.3984375\n"
     ]
    }
   ],
   "source": [
    "copy_stringio(connection, beers)"
   ]
  },
  {
   "cell_type": "markdown",
   "id": "07f4ee86",
   "metadata": {},
   "source": [
    "The copy command is the fastest we've seen so far! Using COPY, the process completed in less than a second. However, it seems like this method is a lot more wasteful in terms of memory usage. The function consumes 99MB, which is more than twice the size of our JSON file on disk."
   ]
  },
  {
   "cell_type": "markdown",
   "id": "83f0d748",
   "metadata": {},
   "source": [
    "## Copy Data From a String Iterator\n",
    "\n",
    "One of the main drawbacks of using copy with StringIO is that the entire file is created in-memory. What if instead of creating the entire file in-memory, we create a file-like object that will act as a buffer between the remote source and the COPY command. The buffer will consume JSON via the iterator, clean and transform the data, and output clean CSV."
   ]
  },
  {
   "attachments": {
    "json_copy.jpg": {
     "image/jpeg": "[encoded data removed]"
    }
   },
   "cell_type": "markdown",
   "id": "65c61686",
   "metadata": {},
   "source": [
    "<!-- <img src=\"/home/alena/Pictures/json_copy.jpg\" width=400 height=400/> -->\n",
    "![json_copy.jpg](attachment:json_copy.jpg)"
   ]
  },
  {
   "cell_type": "code",
   "execution_count": 81,
   "id": "7535afd3",
   "metadata": {},
   "outputs": [],
   "source": [
    "from typing import Iterator, Optional\n",
    "import io\n",
    "\n",
    "class StringIteratorIO(io.TextIOBase):\n",
    "    def __init__(self, iter: Iterator[str]):\n",
    "        self._iter = iter\n",
    "        self._buff = ''\n",
    "\n",
    "    def readable(self) -> bool:\n",
    "        return True\n",
    "\n",
    "    def _read1(self, n: Optional[int] = None) -> str:\n",
    "        while not self._buff:\n",
    "            try:\n",
    "                self._buff = next(self._iter)\n",
    "            except StopIteration:\n",
    "                break\n",
    "        ret = self._buff[:n]\n",
    "        self._buff = self._buff[len(ret):]\n",
    "        return ret\n",
    "\n",
    "    def read(self, n: Optional[int] = None) -> str:\n",
    "        line = []\n",
    "        if n is None or n < 0:\n",
    "            while True:\n",
    "                m = self._read1()\n",
    "                if not m:\n",
    "                    break\n",
    "                line.append(m)\n",
    "        else:\n",
    "            while n > 0:\n",
    "                m = self._read1(n)\n",
    "                if not m:\n",
    "                    break\n",
    "                n -= len(m)\n",
    "                line.append(m)\n",
    "        return ''.join(line)\n"
   ]
  },
  {
   "cell_type": "markdown",
   "id": "487d5ae4",
   "metadata": {},
   "source": [
    "To demonstrate how this works, this is how a CSV file-like object can be generated from a list of numbers:"
   ]
  },
  {
   "cell_type": "code",
   "execution_count": 77,
   "id": "d06edac1",
   "metadata": {},
   "outputs": [
    {
     "data": {
      "text/plain": [
       "<generator object <genexpr> at 0x7f161011b580>"
      ]
     },
     "execution_count": 77,
     "metadata": {},
     "output_type": "execute_result"
    }
   ],
   "source": [
    "gen = (f'{i},{i**2}\\n' for i in range(3))\n",
    "gen"
   ]
  },
  {
   "cell_type": "code",
   "execution_count": 78,
   "id": "c57ee7ec",
   "metadata": {},
   "outputs": [
    {
     "name": "stdout",
     "output_type": "stream",
     "text": [
      "0,0\n",
      "1,1\n",
      "2,4\n",
      "\n"
     ]
    }
   ],
   "source": [
    "f = StringIteratorIO(gen)\n",
    "print(f.read())"
   ]
  },
  {
   "cell_type": "markdown",
   "id": "c8edb3a6",
   "metadata": {},
   "source": [
    "Notice that we used f like a file. Internally, it fetched the rows from gen only when its internal line buffer was empty.\n",
    "\n",
    "The loading function using StringIteratorIO looks like this:"
   ]
  },
  {
   "cell_type": "code",
   "execution_count": 79,
   "id": "da538e57",
   "metadata": {},
   "outputs": [],
   "source": [
    "@profile\n",
    "def copy_string_iterator(connection, beers: Iterator[Dict[str, Any]]) -> None:\n",
    "    with connection.cursor() as cursor:\n",
    "        create_staging_table(cursor)\n",
    "        beers_string_iterator = StringIteratorIO((\n",
    "            '|'.join(map(clean_csv_value, (\n",
    "                beer['id'],\n",
    "                beer['name'],\n",
    "                beer['tagline'],\n",
    "                parse_first_brewed(beer['first_brewed']).isoformat(),\n",
    "                beer['description'],\n",
    "                beer['image_url'],\n",
    "                beer['abv'],\n",
    "                beer['ibu'],\n",
    "                beer['target_fg'],\n",
    "                beer['target_og'],\n",
    "                beer['ebc'],\n",
    "                beer['srm'],\n",
    "                beer['ph'],\n",
    "                beer['attenuation_level'],\n",
    "                beer['brewers_tips'],\n",
    "                beer['contributed_by'],\n",
    "                beer['volume']['value'],\n",
    "            ))) + '\\n'\n",
    "            for beer in beers\n",
    "        ))\n",
    "        cursor.copy_from(beers_string_iterator, 'staging_beers', sep='|')"
   ]
  },
  {
   "cell_type": "markdown",
   "id": "81c9c82a",
   "metadata": {},
   "source": [
    "The main difference is that the beers CSV file is consumed on demand, and the data is not stored in-memory after it was used.\n",
    "\n",
    "Let's execute the function and see the results:"
   ]
  },
  {
   "cell_type": "code",
   "execution_count": 80,
   "id": "ffc3eda7",
   "metadata": {},
   "outputs": [
    {
     "name": "stdout",
     "output_type": "stream",
     "text": [
      "\n",
      "copy_string_iterator()\n",
      "Time   0.3578\n",
      "Memory 0.0078125\n"
     ]
    }
   ],
   "source": [
    "copy_string_iterator(connection, beers)"
   ]
  },
  {
   "cell_type": "markdown",
   "id": "ccdd95f2",
   "metadata": {},
   "source": [
    "Great! Timing is low and memory is back to zero."
   ]
  },
  {
   "cell_type": "markdown",
   "id": "e7a60868",
   "metadata": {},
   "source": [
    "## Copy Data From a String Iterator with Buffer Size\n",
    "\n",
    "In an attempt to squeeze one final drop of performance, we notice that just like page_size, the copy command also accepts a similar argument called size:\n",
    "\n",
    "> _size – size of the buffer used to read from the file._\n",
    "\n",
    "Let's add a size argument to the function:"
   ]
  },
  {
   "cell_type": "code",
   "execution_count": 85,
   "id": "abd3c020",
   "metadata": {},
   "outputs": [],
   "source": [
    "@profile\n",
    "def copy_string_iterator(connection, beers: Iterator[Dict[str, Any]], size: int = 8192) -> None:\n",
    "    with connection.cursor() as cursor:\n",
    "        create_staging_table(cursor)\n",
    "        beers_string_iterator = StringIteratorIO((\n",
    "            '|'.join(map(clean_csv_value, (\n",
    "                beer['id'],\n",
    "                beer['name'],\n",
    "                beer['tagline'],\n",
    "                parse_first_brewed(beer['first_brewed']).isoformat(),\n",
    "                beer['description'],\n",
    "                beer['image_url'],\n",
    "                beer['abv'],\n",
    "                beer['ibu'],\n",
    "                beer['target_fg'],\n",
    "                beer['target_og'],\n",
    "                beer['ebc'],\n",
    "                beer['srm'],\n",
    "                beer['ph'],\n",
    "                beer['attenuation_level'],\n",
    "                beer['brewers_tips'],\n",
    "                beer['contributed_by'],\n",
    "                beer['volume']['value'],\n",
    "            ))) + '\\n'\n",
    "            for beer in beers\n",
    "        ))\n",
    "        cursor.copy_from(beers_string_iterator, 'staging_beers', sep='|', size=size)\n"
   ]
  },
  {
   "cell_type": "markdown",
   "id": "dbeebd95",
   "metadata": {},
   "source": [
    "The default value for size is 8192, which is 2 ** 13, so we will keep sizes in powers of 2:"
   ]
  },
  {
   "cell_type": "code",
   "execution_count": 86,
   "id": "d2958dc7",
   "metadata": {},
   "outputs": [
    {
     "name": "stdout",
     "output_type": "stream",
     "text": [
      "\n",
      "copy_string_iterator(size=1024)\n",
      "Time   0.374\n",
      "Memory 0.0\n"
     ]
    }
   ],
   "source": [
    "copy_string_iterator(connection, iter(beers), size=1024)"
   ]
  },
  {
   "cell_type": "code",
   "execution_count": 87,
   "id": "5d96f527",
   "metadata": {},
   "outputs": [
    {
     "name": "stdout",
     "output_type": "stream",
     "text": [
      "\n",
      "copy_string_iterator(size=8192)\n",
      "Time   0.3271\n",
      "Memory 0.0\n"
     ]
    }
   ],
   "source": [
    "copy_string_iterator(connection, iter(beers), size=8192)"
   ]
  },
  {
   "cell_type": "code",
   "execution_count": 88,
   "id": "8360048f",
   "metadata": {},
   "outputs": [
    {
     "name": "stdout",
     "output_type": "stream",
     "text": [
      "\n",
      "copy_string_iterator(size=16384)\n",
      "Time   0.3305\n",
      "Memory 0.0\n"
     ]
    }
   ],
   "source": [
    "copy_string_iterator(connection, iter(beers), size=16384)"
   ]
  },
  {
   "cell_type": "code",
   "execution_count": 89,
   "id": "87780057",
   "metadata": {},
   "outputs": [
    {
     "name": "stdout",
     "output_type": "stream",
     "text": [
      "\n",
      "copy_string_iterator(size=65536)\n",
      "Time   0.3296\n",
      "Memory 0.0\n"
     ]
    }
   ],
   "source": [
    "copy_string_iterator(connection, iter(beers), size=65536)"
   ]
  },
  {
   "cell_type": "markdown",
   "id": "06e133ea",
   "metadata": {},
   "source": [
    "Unlike the previous examples, it seems like there is no tradeoff between speed and memory. This makes sense because this method was designed to consume no memory. However, we do get different timing when changing the page size. For our dataset, the default 8192 is the sweet spot."
   ]
  },
  {
   "cell_type": "markdown",
   "id": "dbd001fa",
   "metadata": {},
   "source": [
    "# Results Summary\n",
    "\n",
    "A summary of the results:"
   ]
  },
  {
   "cell_type": "markdown",
   "id": "cd610a98",
   "metadata": {},
   "source": [
    "|`Function`  |\t`Time (seconds)` \t|` Memory (MB)`|\n",
    "|-|-|-|\n",
    "insert_one_by_one() | 128.8 (5.761) |\t0.08203125 (0.0078125)\n",
    "insert_executemany() |\t124.7 |\t2.765625\n",
    "insert_executemany_iterator() |\t129.3 |\t0.0\n",
    "insert_execute_batch()| \t3.917 |\t2.50390625\n",
    "insert_execute_batch_iterator(page_size=1) |\t130.2 |\t0.0\n",
    "insert_execute_batch_iterator(page_size=100) |\t4.333 |\t0.0\n",
    "insert_execute_batch_iterator(page_size=1000) |\t2.537 |\t0.2265625\n",
    "insert_execute_batch_iterator(page_size=10000) |\t2.585 |\t25.4453125\n",
    "insert_execute_values() |\t3.666| \t4.50390625\n",
    "insert_execute_values_iterator(page_size=1) |\t127.4 |\t0.0\n",
    "insert_execute_values_iterator(page_size=100) |\t3.677 |\t0.0\n",
    "insert_execute_values_iterator(page_size=1000)| \t1.468 |\t0.0\n",
    "insert_execute_values_iterator(page_size=10000) |\t1.503 |\t2.25\n",
    "copy_stringio() |\t0.6274 |\t99.109375\n",
    "copy_string_iterator(size=1024) |\t0.4536 |\t0.0\n",
    "copy_string_iterator(size=8192) |\t0.4596 |\t0.0\n",
    "copy_string_iterator(size=16384) |\t0.4649 |\t0.0\n",
    "copy_string_iterator(size=65536) |\t0.6171 |\t0.0"
   ]
  },
  {
   "cell_type": "markdown",
   "id": "1e763259",
   "metadata": {},
   "source": [
    "# Summary\n",
    "The big question now is What should I use? as always, the answer is It depends.\n",
    "\n",
    "Each method has its own advantages and disadvantages, and is suited for different circumstances:"
   ]
  },
  {
   "cell_type": "markdown",
   "id": "33c421ab",
   "metadata": {},
   "source": [
    "<div class=\"alert alert-info\"\n",
    "  <strong>TAKE AWAY:</strong> Prefer built-in approaches for complex data types.\n",
    "</div>"
   ]
  },
  {
   "cell_type": "markdown",
   "id": "bc8ef270",
   "metadata": {},
   "source": [
    "Execute many, execute values and batch take care of the conversion between Python data types to database types. CSV approaches required escaping.\n",
    "\n",
    "<div class=\"alert alert-info\"\n",
    "  <strong>TAKE AWAY:</strong> Prefer built-in approaches for small data volume.\n",
    "</div>"
   ]
  },
  {
   "cell_type": "markdown",
   "id": "48c98f4c",
   "metadata": {},
   "source": [
    "The build-in approaches are more readable and less likely to break in the future. If memory and time is not an issue, keep it simple!\n",
    "\n",
    "<div class=\"alert alert-info\"\n",
    "  <strong>TAKE AWAY:</strong> Prefer copy approaches for large data volume.\n",
    "</div>\n"
   ]
  },
  {
   "cell_type": "markdown",
   "id": "c3c8c04d",
   "metadata": {},
   "source": [
    "Copy approach is more suitable for larger amounts of data where memory might become an issue."
   ]
  },
  {
   "cell_type": "code",
   "execution_count": 98,
   "id": "4288e640",
   "metadata": {},
   "outputs": [
    {
     "ename": "JSONDecodeError",
     "evalue": "Extra data: line 2 column 1 (char 457)",
     "output_type": "error",
     "traceback": [
      "\u001b[0;31m---------------------------------------------------------------------------\u001b[0m",
      "\u001b[0;31mJSONDecodeError\u001b[0m                           Traceback (most recent call last)",
      "\u001b[0;32m<ipython-input-98-d357da287683>\u001b[0m in \u001b[0;36m<module>\u001b[0;34m\u001b[0m\n\u001b[1;32m     21\u001b[0m \u001b[0;34m\u001b[0m\u001b[0m\n\u001b[1;32m     22\u001b[0m \u001b[0;32mwith\u001b[0m \u001b[0mopen\u001b[0m\u001b[0;34m(\u001b[0m\u001b[0;34m'/home/alena/Documents/Udacity/data_engineer/code/project_data_modeling_psql/project-template/data/log_data/2018/11/2018-11-01-events.json'\u001b[0m\u001b[0;34m)\u001b[0m \u001b[0;32mas\u001b[0m \u001b[0mf\u001b[0m\u001b[0;34m:\u001b[0m\u001b[0;34m\u001b[0m\u001b[0;34m\u001b[0m\u001b[0m\n\u001b[0;32m---> 23\u001b[0;31m     \u001b[0musers\u001b[0m \u001b[0;34m=\u001b[0m \u001b[0mjson\u001b[0m\u001b[0;34m.\u001b[0m\u001b[0mload\u001b[0m\u001b[0;34m(\u001b[0m\u001b[0mf\u001b[0m\u001b[0;34m)\u001b[0m\u001b[0;34m\u001b[0m\u001b[0;34m\u001b[0m\u001b[0m\n\u001b[0m",
      "\u001b[0;32m~/anaconda3/envs/udacity/lib/python3.8/json/__init__.py\u001b[0m in \u001b[0;36mload\u001b[0;34m(fp, cls, object_hook, parse_float, parse_int, parse_constant, object_pairs_hook, **kw)\u001b[0m\n\u001b[1;32m    291\u001b[0m     \u001b[0mkwarg\u001b[0m\u001b[0;34m;\u001b[0m \u001b[0motherwise\u001b[0m\u001b[0;31m \u001b[0m\u001b[0;31m`\u001b[0m\u001b[0;31m`\u001b[0m\u001b[0mJSONDecoder\u001b[0m\u001b[0;31m`\u001b[0m\u001b[0;31m`\u001b[0m \u001b[0;32mis\u001b[0m \u001b[0mused\u001b[0m\u001b[0;34m.\u001b[0m\u001b[0;34m\u001b[0m\u001b[0;34m\u001b[0m\u001b[0m\n\u001b[1;32m    292\u001b[0m     \"\"\"\n\u001b[0;32m--> 293\u001b[0;31m     return loads(fp.read(),\n\u001b[0m\u001b[1;32m    294\u001b[0m         \u001b[0mcls\u001b[0m\u001b[0;34m=\u001b[0m\u001b[0mcls\u001b[0m\u001b[0;34m,\u001b[0m \u001b[0mobject_hook\u001b[0m\u001b[0;34m=\u001b[0m\u001b[0mobject_hook\u001b[0m\u001b[0;34m,\u001b[0m\u001b[0;34m\u001b[0m\u001b[0;34m\u001b[0m\u001b[0m\n\u001b[1;32m    295\u001b[0m         \u001b[0mparse_float\u001b[0m\u001b[0;34m=\u001b[0m\u001b[0mparse_float\u001b[0m\u001b[0;34m,\u001b[0m \u001b[0mparse_int\u001b[0m\u001b[0;34m=\u001b[0m\u001b[0mparse_int\u001b[0m\u001b[0;34m,\u001b[0m\u001b[0;34m\u001b[0m\u001b[0;34m\u001b[0m\u001b[0m\n",
      "\u001b[0;32m~/anaconda3/envs/udacity/lib/python3.8/json/__init__.py\u001b[0m in \u001b[0;36mloads\u001b[0;34m(s, cls, object_hook, parse_float, parse_int, parse_constant, object_pairs_hook, **kw)\u001b[0m\n\u001b[1;32m    355\u001b[0m             \u001b[0mparse_int\u001b[0m \u001b[0;32mis\u001b[0m \u001b[0;32mNone\u001b[0m \u001b[0;32mand\u001b[0m \u001b[0mparse_float\u001b[0m \u001b[0;32mis\u001b[0m \u001b[0;32mNone\u001b[0m \u001b[0;32mand\u001b[0m\u001b[0;34m\u001b[0m\u001b[0;34m\u001b[0m\u001b[0m\n\u001b[1;32m    356\u001b[0m             parse_constant is None and object_pairs_hook is None and not kw):\n\u001b[0;32m--> 357\u001b[0;31m         \u001b[0;32mreturn\u001b[0m \u001b[0m_default_decoder\u001b[0m\u001b[0;34m.\u001b[0m\u001b[0mdecode\u001b[0m\u001b[0;34m(\u001b[0m\u001b[0ms\u001b[0m\u001b[0;34m)\u001b[0m\u001b[0;34m\u001b[0m\u001b[0;34m\u001b[0m\u001b[0m\n\u001b[0m\u001b[1;32m    358\u001b[0m     \u001b[0;32mif\u001b[0m \u001b[0mcls\u001b[0m \u001b[0;32mis\u001b[0m \u001b[0;32mNone\u001b[0m\u001b[0;34m:\u001b[0m\u001b[0;34m\u001b[0m\u001b[0;34m\u001b[0m\u001b[0m\n\u001b[1;32m    359\u001b[0m         \u001b[0mcls\u001b[0m \u001b[0;34m=\u001b[0m \u001b[0mJSONDecoder\u001b[0m\u001b[0;34m\u001b[0m\u001b[0;34m\u001b[0m\u001b[0m\n",
      "\u001b[0;32m~/anaconda3/envs/udacity/lib/python3.8/json/decoder.py\u001b[0m in \u001b[0;36mdecode\u001b[0;34m(self, s, _w)\u001b[0m\n\u001b[1;32m    338\u001b[0m         \u001b[0mend\u001b[0m \u001b[0;34m=\u001b[0m \u001b[0m_w\u001b[0m\u001b[0;34m(\u001b[0m\u001b[0ms\u001b[0m\u001b[0;34m,\u001b[0m \u001b[0mend\u001b[0m\u001b[0;34m)\u001b[0m\u001b[0;34m.\u001b[0m\u001b[0mend\u001b[0m\u001b[0;34m(\u001b[0m\u001b[0;34m)\u001b[0m\u001b[0;34m\u001b[0m\u001b[0;34m\u001b[0m\u001b[0m\n\u001b[1;32m    339\u001b[0m         \u001b[0;32mif\u001b[0m \u001b[0mend\u001b[0m \u001b[0;34m!=\u001b[0m \u001b[0mlen\u001b[0m\u001b[0;34m(\u001b[0m\u001b[0ms\u001b[0m\u001b[0;34m)\u001b[0m\u001b[0;34m:\u001b[0m\u001b[0;34m\u001b[0m\u001b[0;34m\u001b[0m\u001b[0m\n\u001b[0;32m--> 340\u001b[0;31m             \u001b[0;32mraise\u001b[0m \u001b[0mJSONDecodeError\u001b[0m\u001b[0;34m(\u001b[0m\u001b[0;34m\"Extra data\"\u001b[0m\u001b[0;34m,\u001b[0m \u001b[0ms\u001b[0m\u001b[0;34m,\u001b[0m \u001b[0mend\u001b[0m\u001b[0;34m)\u001b[0m\u001b[0;34m\u001b[0m\u001b[0;34m\u001b[0m\u001b[0m\n\u001b[0m\u001b[1;32m    341\u001b[0m         \u001b[0;32mreturn\u001b[0m \u001b[0mobj\u001b[0m\u001b[0;34m\u001b[0m\u001b[0;34m\u001b[0m\u001b[0m\n\u001b[1;32m    342\u001b[0m \u001b[0;34m\u001b[0m\u001b[0m\n",
      "\u001b[0;31mJSONDecodeError\u001b[0m: Extra data: line 2 column 1 (char 457)"
     ]
    }
   ],
   "source": [
    "# dic = {\"artist\":\"Survivor\",\n",
    "#  \"auth\":\"Logged In\",\n",
    "#  \"firstName\":\"Jayden\",\n",
    "#  \"gender\":\"M\",\n",
    "#  \"itemInSession\":0,\n",
    "#  \"lastName\":\"Fox\",\n",
    "#  \"length\":245.36771,\n",
    "#  \"level\":\"free\",\n",
    "#  \"location\":\"New Orleans-Metairie, LA\",\n",
    "#  \"method\":\"PUT\",\n",
    "#  \"page\":\"NextSong\",\n",
    "#  \"registration\":1541033612796.0,\n",
    "#  \"sessionId\":100,\n",
    "#  \"song\":\"Eye Of The Tiger\",\n",
    "#  \"status\":200,\n",
    "#  \"ts\":1541110994796,\n",
    "#  \"userAgent\":\"\\\"Mozilla\\/5.0 (Windows NT 6.3; WOW64) AppleWebKit\\/537.36 (KHTML, like Gecko) Chrome\\/36.0.1985.143 Safari\\/537.36\\\"\",\n",
    "#  \"userId\":\"101\"}\n",
    "\n",
    "import json\n",
    "\n",
    "with open('/home/alena/Documents/Udacity/data_engineer/code/project_data_modeling_psql/project-template/data/log_data/2018/11/2018-11-01-events.json') as f:\n",
    "    users = json.load(f)"
   ]
  },
  {
   "cell_type": "code",
   "execution_count": null,
   "id": "1f2e0014",
   "metadata": {},
   "outputs": [],
   "source": [
    "@profile\n",
    "def insert_execute_batch_iterator(connection, \n",
    "                                  beers: Iterator[Dict[str, Any]]) -> None:\n",
    "    with connection.cursor() as cursor:\n",
    "        create_staging_table(cursor)\n",
    "\n",
    "        iter_users = ({\n",
    "            **user #,\n",
    "#             'ts': parse_first_brewed(beer['first_brewed']),\n",
    "#             'volume': beer['volume']['value'],\n",
    "        } for user in users)\n",
    "\n",
    "        psycopg2.extras.execute_batch(cursor, \"\"\"\n",
    "            INSERT INTO users VALUES (\n",
    "                %(userId)s,\n",
    "                %(firstName)s,\n",
    "                %(lastName)s,\n",
    "                %(gender)s,\n",
    "                %(level)s\n",
    "            );\n",
    "        \"\"\", iter_beers)"
   ]
  }
 ],
 "metadata": {
  "kernelspec": {
   "display_name": "Python 3",
   "language": "python",
   "name": "python3"
  },
  "language_info": {
   "codemirror_mode": {
    "name": "ipython",
    "version": 3
   },
   "file_extension": ".py",
   "mimetype": "text/x-python",
   "name": "python",
   "nbconvert_exporter": "python",
   "pygments_lexer": "ipython3",
   "version": "3.8.0"
  }
 },
 "nbformat": 4,
 "nbformat_minor": 5
}
